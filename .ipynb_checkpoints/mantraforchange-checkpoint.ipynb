{
 "cells": [
  {
   "cell_type": "code",
   "execution_count": 2,
   "metadata": {},
   "outputs": [],
   "source": [
    "import nltk\n",
    "import pandas as pd"
   ]
  },
  {
   "cell_type": "code",
   "execution_count": 3,
   "metadata": {},
   "outputs": [],
   "source": [
    "from nltk.tokenize import word_tokenize"
   ]
  },
  {
   "cell_type": "code",
   "execution_count": 4,
   "metadata": {},
   "outputs": [],
   "source": [
    "df = pd.read_csv('C:\\\\Users\\\\Jyotishman Parasar\\\\LCO PROJECTS\\\\arnab-daa\\\\Sample_Data.csv')"
   ]
  },
  {
   "cell_type": "code",
   "execution_count": 5,
   "metadata": {},
   "outputs": [
    {
     "data": {
      "text/html": [
       "<div>\n",
       "<style scoped>\n",
       "    .dataframe tbody tr th:only-of-type {\n",
       "        vertical-align: middle;\n",
       "    }\n",
       "\n",
       "    .dataframe tbody tr th {\n",
       "        vertical-align: top;\n",
       "    }\n",
       "\n",
       "    .dataframe thead th {\n",
       "        text-align: right;\n",
       "    }\n",
       "</style>\n",
       "<table border=\"1\" class=\"dataframe\">\n",
       "  <thead>\n",
       "    <tr style=\"text-align: right;\">\n",
       "      <th></th>\n",
       "      <th>Question</th>\n",
       "      <th>Response</th>\n",
       "    </tr>\n",
       "  </thead>\n",
       "  <tbody>\n",
       "    <tr>\n",
       "      <th>0</th>\n",
       "      <td>Anything else was discussed in the SMC meetings?</td>\n",
       "      <td>Regarding appointment of new cook in the school.</td>\n",
       "    </tr>\n",
       "    <tr>\n",
       "      <th>1</th>\n",
       "      <td>Anything else was discussed in the SMC meetings?</td>\n",
       "      <td>Work in progress about room construction with ...</td>\n",
       "    </tr>\n",
       "    <tr>\n",
       "      <th>2</th>\n",
       "      <td>Anything else was discussed in the SMC meetings?</td>\n",
       "      <td>Construction of new rooms in the school.</td>\n",
       "    </tr>\n",
       "    <tr>\n",
       "      <th>3</th>\n",
       "      <td>Anything else was discussed in the SMC meetings?</td>\n",
       "      <td>Nil</td>\n",
       "    </tr>\n",
       "    <tr>\n",
       "      <th>4</th>\n",
       "      <td>Anything else was discussed in the SMC meetings?</td>\n",
       "      <td>Nono</td>\n",
       "    </tr>\n",
       "    <tr>\n",
       "      <th>5</th>\n",
       "      <td>Anything else was discussed in the SMC meetings?</td>\n",
       "      <td>About enrollment</td>\n",
       "    </tr>\n",
       "    <tr>\n",
       "      <th>6</th>\n",
       "      <td>Anything else was discussed in the SMC meetings?</td>\n",
       "      <td>Science lab and mnrega</td>\n",
       "    </tr>\n",
       "    <tr>\n",
       "      <th>7</th>\n",
       "      <td>Anything else was discussed in the SMC meetings?</td>\n",
       "      <td>Building should be constructed</td>\n",
       "    </tr>\n",
       "    <tr>\n",
       "      <th>8</th>\n",
       "      <td>Anything else was discussed in the SMC meetings?</td>\n",
       "      <td>regarding the enrollment of the school session...</td>\n",
       "    </tr>\n",
       "    <tr>\n",
       "      <th>9</th>\n",
       "      <td>Anything else was discussed in the SMC meetings?</td>\n",
       "      <td>regarding enrollment of the school session 202...</td>\n",
       "    </tr>\n",
       "    <tr>\n",
       "      <th>10</th>\n",
       "      <td>Anything else was discussed in the SMC meetings?</td>\n",
       "      <td>Help for development for school infrastructure</td>\n",
       "    </tr>\n",
       "    <tr>\n",
       "      <th>11</th>\n",
       "      <td>Anything else was discussed in the SMC meetings?</td>\n",
       "      <td>Covid-19, its precautions &amp; safeguards for the...</td>\n",
       "    </tr>\n",
       "    <tr>\n",
       "      <th>12</th>\n",
       "      <td>Anything else was discussed in the SMC meetings?</td>\n",
       "      <td>Covid 19 guidelines</td>\n",
       "    </tr>\n",
       "    <tr>\n",
       "      <th>13</th>\n",
       "      <td>Anything else was discussed in the SMC meetings?</td>\n",
       "      <td>DISCUSSED ABOVE EXPENDITURE OF MAINTENANCE GRANT</td>\n",
       "    </tr>\n",
       "    <tr>\n",
       "      <th>14</th>\n",
       "      <td>Anything else was discussed in the SMC meetings?</td>\n",
       "      <td>Regarding Enrollment drive of new session</td>\n",
       "    </tr>\n",
       "    <tr>\n",
       "      <th>15</th>\n",
       "      <td>Anything else was discussed in the SMC meetings?</td>\n",
       "      <td>Yes</td>\n",
       "    </tr>\n",
       "    <tr>\n",
       "      <th>16</th>\n",
       "      <td>Anything else was discussed in the SMC meetings?</td>\n",
       "      <td>Yes</td>\n",
       "    </tr>\n",
       "    <tr>\n",
       "      <th>17</th>\n",
       "      <td>Anything else was discussed in the SMC meetings?</td>\n",
       "      <td>Yes</td>\n",
       "    </tr>\n",
       "    <tr>\n",
       "      <th>18</th>\n",
       "      <td>Anything else was discussed in the SMC meetings?</td>\n",
       "      <td>Yes</td>\n",
       "    </tr>\n",
       "    <tr>\n",
       "      <th>19</th>\n",
       "      <td>Anything else was discussed in the SMC meetings?</td>\n",
       "      <td>Yes</td>\n",
       "    </tr>\n",
       "  </tbody>\n",
       "</table>\n",
       "</div>"
      ],
      "text/plain": [
       "                                            Question  \\\n",
       "0   Anything else was discussed in the SMC meetings?   \n",
       "1   Anything else was discussed in the SMC meetings?   \n",
       "2   Anything else was discussed in the SMC meetings?   \n",
       "3   Anything else was discussed in the SMC meetings?   \n",
       "4   Anything else was discussed in the SMC meetings?   \n",
       "5   Anything else was discussed in the SMC meetings?   \n",
       "6   Anything else was discussed in the SMC meetings?   \n",
       "7   Anything else was discussed in the SMC meetings?   \n",
       "8   Anything else was discussed in the SMC meetings?   \n",
       "9   Anything else was discussed in the SMC meetings?   \n",
       "10  Anything else was discussed in the SMC meetings?   \n",
       "11  Anything else was discussed in the SMC meetings?   \n",
       "12  Anything else was discussed in the SMC meetings?   \n",
       "13  Anything else was discussed in the SMC meetings?   \n",
       "14  Anything else was discussed in the SMC meetings?   \n",
       "15  Anything else was discussed in the SMC meetings?   \n",
       "16  Anything else was discussed in the SMC meetings?   \n",
       "17  Anything else was discussed in the SMC meetings?   \n",
       "18  Anything else was discussed in the SMC meetings?   \n",
       "19  Anything else was discussed in the SMC meetings?   \n",
       "\n",
       "                                             Response  \n",
       "0    Regarding appointment of new cook in the school.  \n",
       "1   Work in progress about room construction with ...  \n",
       "2           Construction of new rooms in the school.   \n",
       "3                                                 Nil  \n",
       "4                                                Nono  \n",
       "5                                    About enrollment  \n",
       "6                              Science lab and mnrega  \n",
       "7                     Building should be constructed   \n",
       "8   regarding the enrollment of the school session...  \n",
       "9   regarding enrollment of the school session 202...  \n",
       "10     Help for development for school infrastructure  \n",
       "11  Covid-19, its precautions & safeguards for the...  \n",
       "12                               Covid 19 guidelines   \n",
       "13   DISCUSSED ABOVE EXPENDITURE OF MAINTENANCE GRANT  \n",
       "14         Regarding Enrollment drive of new session   \n",
       "15                                                Yes  \n",
       "16                                                Yes  \n",
       "17                                                Yes  \n",
       "18                                                Yes  \n",
       "19                                                Yes  "
      ]
     },
     "execution_count": 5,
     "metadata": {},
     "output_type": "execute_result"
    }
   ],
   "source": [
    "df.head(20)"
   ]
  },
  {
   "cell_type": "code",
   "execution_count": 14,
   "metadata": {},
   "outputs": [],
   "source": [
    "df.columns = ['Question', 'Response']"
   ]
  },
  {
   "cell_type": "code",
   "execution_count": 15,
   "metadata": {},
   "outputs": [],
   "source": [
    "import nltk\n",
    "from nltk.tokenize import word_tokenize\n",
    "from nltk.corpus import stopwords"
   ]
  },
  {
   "cell_type": "code",
   "execution_count": 17,
   "metadata": {},
   "outputs": [
    {
     "ename": "AttributeError",
     "evalue": "'DataFrame' object has no attribute 'review'",
     "output_type": "error",
     "traceback": [
      "\u001b[1;31m---------------------------------------------------------------------------\u001b[0m",
      "\u001b[1;31mAttributeError\u001b[0m                            Traceback (most recent call last)",
      "\u001b[1;32m<ipython-input-17-33525564adb8>\u001b[0m in \u001b[0;36m<module>\u001b[1;34m\u001b[0m\n\u001b[1;32m----> 1\u001b[1;33m \u001b[0mResponse\u001b[0m \u001b[1;33m=\u001b[0m \u001b[0mdf\u001b[0m\u001b[1;33m.\u001b[0m\u001b[0mreview\u001b[0m\u001b[1;33m.\u001b[0m\u001b[0mstr\u001b[0m\u001b[1;33m.\u001b[0m\u001b[0mcat\u001b[0m\u001b[1;33m(\u001b[0m\u001b[0msep\u001b[0m\u001b[1;33m=\u001b[0m\u001b[1;34m' '\u001b[0m\u001b[1;33m)\u001b[0m\u001b[1;33m\u001b[0m\u001b[1;33m\u001b[0m\u001b[0m\n\u001b[0m\u001b[0;32m      2\u001b[0m \u001b[0mtokens\u001b[0m \u001b[1;33m=\u001b[0m \u001b[0mword_tokenize\u001b[0m\u001b[1;33m(\u001b[0m\u001b[0mResponses\u001b[0m\u001b[1;33m)\u001b[0m\u001b[1;33m\u001b[0m\u001b[1;33m\u001b[0m\u001b[0m\n\u001b[0;32m      3\u001b[0m \u001b[0mvocabulary\u001b[0m \u001b[1;33m=\u001b[0m \u001b[0mset\u001b[0m\u001b[1;33m(\u001b[0m\u001b[0mtokens\u001b[0m\u001b[1;33m)\u001b[0m\u001b[1;33m\u001b[0m\u001b[1;33m\u001b[0m\u001b[0m\n",
      "\u001b[1;32mD:\\Anaconda\\lib\\site-packages\\pandas\\core\\generic.py\u001b[0m in \u001b[0;36m__getattr__\u001b[1;34m(self, name)\u001b[0m\n\u001b[0;32m   5139\u001b[0m             \u001b[1;32mif\u001b[0m \u001b[0mself\u001b[0m\u001b[1;33m.\u001b[0m\u001b[0m_info_axis\u001b[0m\u001b[1;33m.\u001b[0m\u001b[0m_can_hold_identifiers_and_holds_name\u001b[0m\u001b[1;33m(\u001b[0m\u001b[0mname\u001b[0m\u001b[1;33m)\u001b[0m\u001b[1;33m:\u001b[0m\u001b[1;33m\u001b[0m\u001b[1;33m\u001b[0m\u001b[0m\n\u001b[0;32m   5140\u001b[0m                 \u001b[1;32mreturn\u001b[0m \u001b[0mself\u001b[0m\u001b[1;33m[\u001b[0m\u001b[0mname\u001b[0m\u001b[1;33m]\u001b[0m\u001b[1;33m\u001b[0m\u001b[1;33m\u001b[0m\u001b[0m\n\u001b[1;32m-> 5141\u001b[1;33m             \u001b[1;32mreturn\u001b[0m \u001b[0mobject\u001b[0m\u001b[1;33m.\u001b[0m\u001b[0m__getattribute__\u001b[0m\u001b[1;33m(\u001b[0m\u001b[0mself\u001b[0m\u001b[1;33m,\u001b[0m \u001b[0mname\u001b[0m\u001b[1;33m)\u001b[0m\u001b[1;33m\u001b[0m\u001b[1;33m\u001b[0m\u001b[0m\n\u001b[0m\u001b[0;32m   5142\u001b[0m \u001b[1;33m\u001b[0m\u001b[0m\n\u001b[0;32m   5143\u001b[0m     \u001b[1;32mdef\u001b[0m \u001b[0m__setattr__\u001b[0m\u001b[1;33m(\u001b[0m\u001b[0mself\u001b[0m\u001b[1;33m,\u001b[0m \u001b[0mname\u001b[0m\u001b[1;33m:\u001b[0m \u001b[0mstr\u001b[0m\u001b[1;33m,\u001b[0m \u001b[0mvalue\u001b[0m\u001b[1;33m)\u001b[0m \u001b[1;33m->\u001b[0m \u001b[1;32mNone\u001b[0m\u001b[1;33m:\u001b[0m\u001b[1;33m\u001b[0m\u001b[1;33m\u001b[0m\u001b[0m\n",
      "\u001b[1;31mAttributeError\u001b[0m: 'DataFrame' object has no attribute 'review'"
     ]
    }
   ],
   "source": [
    "Response = df..str.cat(sep=' ')\n",
    "tokens = word_tokenize(Responses)\n",
    "vocabulary = set(tokens)"
   ]
  },
  {
   "cell_type": "code",
   "execution_count": null,
   "metadata": {},
   "outputs": [],
   "source": [
    "print(len(vocabulary)"
   ]
  },
  {
   "cell_type": "code",
   "execution_count": null,
   "metadata": {},
   "outputs": [],
   "source": [
    "stop_words = set(stopwords.words('english'))\n",
    "tokens = [w for w in tokens if not w in stop_words]"
   ]
  },
  {
   "cell_type": "code",
   "execution_count": null,
   "metadata": {},
   "outputs": [],
   "source": []
  },
  {
   "cell_type": "code",
   "execution_count": 20,
   "metadata": {},
   "outputs": [],
   "source": [
    "\n",
    "tokens = [w for w in tokens if not w in stop_words]\n"
   ]
  },
  {
   "cell_type": "code",
   "execution_count": 25,
   "metadata": {},
   "outputs": [],
   "source": [
    "frequency_dist = nltk.FreqDist(tokens)"
   ]
  },
  {
   "cell_type": "code",
   "execution_count": 17,
   "metadata": {},
   "outputs": [
    {
     "data": {
      "text/plain": [
       "['No',\n",
       " 'classes',\n",
       " '.',\n",
       " 'Nil',\n",
       " 'Extra',\n",
       " 'None',\n",
       " 'students',\n",
       " ',',\n",
       " '-',\n",
       " 'Yes',\n",
       " 'class',\n",
       " 'teachers',\n",
       " 'school',\n",
       " 'work',\n",
       " 'Nothing',\n",
       " 'enrollment',\n",
       " 'board',\n",
       " 'extra',\n",
       " 'Not',\n",
       " 'exam',\n",
       " '%',\n",
       " '100',\n",
       " 'mission',\n",
       " 'training',\n",
       " 'exams',\n",
       " 'Revision',\n",
       " 'Na',\n",
       " 'Teachers',\n",
       " 'Online',\n",
       " 'material',\n",
       " 'teacher',\n",
       " 'Students',\n",
       " 'papers',\n",
       " 'Bala',\n",
       " 'regarding',\n",
       " 'drive',\n",
       " 'online',\n",
       " 'visit',\n",
       " 'Enrollment',\n",
       " 'paper',\n",
       " 'Good',\n",
       " 'Meeting',\n",
       " 'They',\n",
       " 'good',\n",
       " 'parents',\n",
       " 'door',\n",
       " 'none',\n",
       " 'final',\n",
       " 'time',\n",
       " 'taken',\n",
       " 'Discussion',\n",
       " 'Final',\n",
       " 'pre',\n",
       " 'nil',\n",
       " 'going',\n",
       " 'taking',\n",
       " 'weak',\n",
       " 'revision',\n",
       " 'staff',\n",
       " 'DIET',\n",
       " '..',\n",
       " '19',\n",
       " 'result',\n",
       " 'newly',\n",
       " 'Zoom',\n",
       " 'Regular',\n",
       " 'Covid',\n",
       " 'issue',\n",
       " 'meeting',\n",
       " 'School',\n",
       " 'na',\n",
       " 'appointed',\n",
       " 'increase',\n",
       " 'test',\n",
       " 'zoom',\n",
       " 'hard',\n",
       " 'Focus',\n",
       " 'study',\n",
       " '8th',\n",
       " 'covid',\n",
       " 'raised',\n",
       " 'Training',\n",
       " 'Door',\n",
       " '&',\n",
       " 'focus',\n",
       " '3704',\n",
       " 'Regarding',\n",
       " 'Mission',\n",
       " 'Pre',\n",
       " 'teaching',\n",
       " 'issues',\n",
       " 'PTM',\n",
       " 'preparation',\n",
       " 'well',\n",
       " 'Motivated',\n",
       " 'simplified',\n",
       " 'calls',\n",
       " 'yes',\n",
       " 'practice',\n",
       " 'level']"
      ]
     },
     "execution_count": 17,
     "metadata": {},
     "output_type": "execute_result"
    }
   ],
   "source": [
    "sorted(frequency_dist,key=frequency_dist.__getitem__, reverse=True)[0:100]"
   ]
  },
  {
   "cell_type": "code",
   "execution_count": null,
   "metadata": {},
   "outputs": [],
   "source": []
  },
  {
   "cell_type": "code",
   "execution_count": null,
   "metadata": {},
   "outputs": [],
   "source": []
  },
  {
   "cell_type": "code",
   "execution_count": null,
   "metadata": {},
   "outputs": [],
   "source": []
  },
  {
   "cell_type": "code",
   "execution_count": null,
   "metadata": {},
   "outputs": [],
   "source": []
  },
  {
   "cell_type": "code",
   "execution_count": null,
   "metadata": {},
   "outputs": [],
   "source": []
  }
 ],
 "metadata": {
  "kernelspec": {
   "display_name": "Python 3",
   "language": "python",
   "name": "python3"
  },
  "language_info": {
   "codemirror_mode": {
    "name": "ipython",
    "version": 3
   },
   "file_extension": ".py",
   "mimetype": "text/x-python",
   "name": "python",
   "nbconvert_exporter": "python",
   "pygments_lexer": "ipython3",
   "version": "3.7.4"
  }
 },
 "nbformat": 4,
 "nbformat_minor": 2
}
