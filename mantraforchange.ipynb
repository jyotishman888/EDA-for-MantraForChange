{
 "cells": [
  {
   "cell_type": "code",
   "execution_count": 1,
   "metadata": {},
   "outputs": [],
   "source": [
    "import nltk\n",
    "import pandas as pd"
   ]
  },
  {
   "cell_type": "code",
   "execution_count": 2,
   "metadata": {},
   "outputs": [],
   "source": [
    "from nltk.tokenize import word_tokenize"
   ]
  },
  {
   "cell_type": "code",
   "execution_count": 3,
   "metadata": {},
   "outputs": [],
   "source": [
    "df = pd.read_csv('C:\\\\Users\\\\Jyotishman Parasar\\\\LCO PROJECTS\\\\arnab-daa\\\\Sample_Data.csv')"
   ]
  },
  {
   "cell_type": "code",
   "execution_count": 4,
   "metadata": {},
   "outputs": [
    {
     "data": {
      "text/html": [
       "<div>\n",
       "<style scoped>\n",
       "    .dataframe tbody tr th:only-of-type {\n",
       "        vertical-align: middle;\n",
       "    }\n",
       "\n",
       "    .dataframe tbody tr th {\n",
       "        vertical-align: top;\n",
       "    }\n",
       "\n",
       "    .dataframe thead th {\n",
       "        text-align: right;\n",
       "    }\n",
       "</style>\n",
       "<table border=\"1\" class=\"dataframe\">\n",
       "  <thead>\n",
       "    <tr style=\"text-align: right;\">\n",
       "      <th></th>\n",
       "      <th>Question</th>\n",
       "      <th>Response</th>\n",
       "    </tr>\n",
       "  </thead>\n",
       "  <tbody>\n",
       "    <tr>\n",
       "      <th>0</th>\n",
       "      <td>Anything else was discussed in the SMC meetings?</td>\n",
       "      <td>Regarding appointment of new cook in the school.</td>\n",
       "    </tr>\n",
       "    <tr>\n",
       "      <th>1</th>\n",
       "      <td>Anything else was discussed in the SMC meetings?</td>\n",
       "      <td>Work in progress about room construction with ...</td>\n",
       "    </tr>\n",
       "    <tr>\n",
       "      <th>2</th>\n",
       "      <td>Anything else was discussed in the SMC meetings?</td>\n",
       "      <td>Construction of new rooms in the school.</td>\n",
       "    </tr>\n",
       "    <tr>\n",
       "      <th>3</th>\n",
       "      <td>Anything else was discussed in the SMC meetings?</td>\n",
       "      <td>Nil</td>\n",
       "    </tr>\n",
       "    <tr>\n",
       "      <th>4</th>\n",
       "      <td>Anything else was discussed in the SMC meetings?</td>\n",
       "      <td>Nono</td>\n",
       "    </tr>\n",
       "    <tr>\n",
       "      <th>5</th>\n",
       "      <td>Anything else was discussed in the SMC meetings?</td>\n",
       "      <td>About enrollment</td>\n",
       "    </tr>\n",
       "    <tr>\n",
       "      <th>6</th>\n",
       "      <td>Anything else was discussed in the SMC meetings?</td>\n",
       "      <td>Science lab and mnrega</td>\n",
       "    </tr>\n",
       "    <tr>\n",
       "      <th>7</th>\n",
       "      <td>Anything else was discussed in the SMC meetings?</td>\n",
       "      <td>Building should be constructed</td>\n",
       "    </tr>\n",
       "    <tr>\n",
       "      <th>8</th>\n",
       "      <td>Anything else was discussed in the SMC meetings?</td>\n",
       "      <td>regarding the enrollment of the school session...</td>\n",
       "    </tr>\n",
       "    <tr>\n",
       "      <th>9</th>\n",
       "      <td>Anything else was discussed in the SMC meetings?</td>\n",
       "      <td>regarding enrollment of the school session 202...</td>\n",
       "    </tr>\n",
       "    <tr>\n",
       "      <th>10</th>\n",
       "      <td>Anything else was discussed in the SMC meetings?</td>\n",
       "      <td>Help for development for school infrastructure</td>\n",
       "    </tr>\n",
       "    <tr>\n",
       "      <th>11</th>\n",
       "      <td>Anything else was discussed in the SMC meetings?</td>\n",
       "      <td>Covid-19, its precautions &amp; safeguards for the...</td>\n",
       "    </tr>\n",
       "    <tr>\n",
       "      <th>12</th>\n",
       "      <td>Anything else was discussed in the SMC meetings?</td>\n",
       "      <td>Covid 19 guidelines</td>\n",
       "    </tr>\n",
       "    <tr>\n",
       "      <th>13</th>\n",
       "      <td>Anything else was discussed in the SMC meetings?</td>\n",
       "      <td>DISCUSSED ABOVE EXPENDITURE OF MAINTENANCE GRANT</td>\n",
       "    </tr>\n",
       "    <tr>\n",
       "      <th>14</th>\n",
       "      <td>Anything else was discussed in the SMC meetings?</td>\n",
       "      <td>Regarding Enrollment drive of new session</td>\n",
       "    </tr>\n",
       "    <tr>\n",
       "      <th>15</th>\n",
       "      <td>Anything else was discussed in the SMC meetings?</td>\n",
       "      <td>Yes</td>\n",
       "    </tr>\n",
       "    <tr>\n",
       "      <th>16</th>\n",
       "      <td>Anything else was discussed in the SMC meetings?</td>\n",
       "      <td>Yes</td>\n",
       "    </tr>\n",
       "    <tr>\n",
       "      <th>17</th>\n",
       "      <td>Anything else was discussed in the SMC meetings?</td>\n",
       "      <td>Yes</td>\n",
       "    </tr>\n",
       "    <tr>\n",
       "      <th>18</th>\n",
       "      <td>Anything else was discussed in the SMC meetings?</td>\n",
       "      <td>Yes</td>\n",
       "    </tr>\n",
       "    <tr>\n",
       "      <th>19</th>\n",
       "      <td>Anything else was discussed in the SMC meetings?</td>\n",
       "      <td>Yes</td>\n",
       "    </tr>\n",
       "  </tbody>\n",
       "</table>\n",
       "</div>"
      ],
      "text/plain": [
       "                                            Question  \\\n",
       "0   Anything else was discussed in the SMC meetings?   \n",
       "1   Anything else was discussed in the SMC meetings?   \n",
       "2   Anything else was discussed in the SMC meetings?   \n",
       "3   Anything else was discussed in the SMC meetings?   \n",
       "4   Anything else was discussed in the SMC meetings?   \n",
       "5   Anything else was discussed in the SMC meetings?   \n",
       "6   Anything else was discussed in the SMC meetings?   \n",
       "7   Anything else was discussed in the SMC meetings?   \n",
       "8   Anything else was discussed in the SMC meetings?   \n",
       "9   Anything else was discussed in the SMC meetings?   \n",
       "10  Anything else was discussed in the SMC meetings?   \n",
       "11  Anything else was discussed in the SMC meetings?   \n",
       "12  Anything else was discussed in the SMC meetings?   \n",
       "13  Anything else was discussed in the SMC meetings?   \n",
       "14  Anything else was discussed in the SMC meetings?   \n",
       "15  Anything else was discussed in the SMC meetings?   \n",
       "16  Anything else was discussed in the SMC meetings?   \n",
       "17  Anything else was discussed in the SMC meetings?   \n",
       "18  Anything else was discussed in the SMC meetings?   \n",
       "19  Anything else was discussed in the SMC meetings?   \n",
       "\n",
       "                                             Response  \n",
       "0    Regarding appointment of new cook in the school.  \n",
       "1   Work in progress about room construction with ...  \n",
       "2           Construction of new rooms in the school.   \n",
       "3                                                 Nil  \n",
       "4                                                Nono  \n",
       "5                                    About enrollment  \n",
       "6                              Science lab and mnrega  \n",
       "7                     Building should be constructed   \n",
       "8   regarding the enrollment of the school session...  \n",
       "9   regarding enrollment of the school session 202...  \n",
       "10     Help for development for school infrastructure  \n",
       "11  Covid-19, its precautions & safeguards for the...  \n",
       "12                               Covid 19 guidelines   \n",
       "13   DISCUSSED ABOVE EXPENDITURE OF MAINTENANCE GRANT  \n",
       "14         Regarding Enrollment drive of new session   \n",
       "15                                                Yes  \n",
       "16                                                Yes  \n",
       "17                                                Yes  \n",
       "18                                                Yes  \n",
       "19                                                Yes  "
      ]
     },
     "execution_count": 4,
     "metadata": {},
     "output_type": "execute_result"
    }
   ],
   "source": [
    "df.head(20)"
   ]
  },
  {
   "cell_type": "code",
   "execution_count": 5,
   "metadata": {},
   "outputs": [],
   "source": [
    "df.columns = ['Question', 'Response']"
   ]
  },
  {
   "cell_type": "code",
   "execution_count": 6,
   "metadata": {},
   "outputs": [],
   "source": [
    "import nltk\n",
    "from nltk.tokenize import word_tokenize\n",
    "from nltk.corpus import stopwords"
   ]
  },
  {
   "cell_type": "code",
   "execution_count": 7,
   "metadata": {},
   "outputs": [],
   "source": [
    "Responses = df.Response.str.cat(sep=' ')"
   ]
  },
  {
   "cell_type": "code",
   "execution_count": 8,
   "metadata": {},
   "outputs": [],
   "source": [
    "tokens = word_tokenize(Responses)"
   ]
  },
  {
   "cell_type": "code",
   "execution_count": 9,
   "metadata": {},
   "outputs": [],
   "source": [
    "vocabulary = set(tokens)"
   ]
  },
  {
   "cell_type": "code",
   "execution_count": 11,
   "metadata": {},
   "outputs": [],
   "source": [
    "stop_words = set(stopwords.words('english'))\n",
    "tokens = [w for w in tokens if not w in stop_words]"
   ]
  },
  {
   "cell_type": "code",
   "execution_count": 12,
   "metadata": {},
   "outputs": [],
   "source": [
    "frequency_dist = nltk.FreqDist(tokens)"
   ]
  },
  {
   "cell_type": "code",
   "execution_count": 14,
   "metadata": {},
   "outputs": [
    {
     "data": {
      "text/plain": [
       "['No',\n",
       " 'classes',\n",
       " '.',\n",
       " 'Nil',\n",
       " 'Extra',\n",
       " 'None',\n",
       " 'students',\n",
       " ',',\n",
       " 'Yes',\n",
       " 'class',\n",
       " 'teachers',\n",
       " 'school',\n",
       " 'work',\n",
       " 'Nothing',\n",
       " 'enrollment',\n",
       " 'board',\n",
       " 'extra',\n",
       " 'Not',\n",
       " 'exam',\n",
       " '%',\n",
       " '100',\n",
       " 'mission',\n",
       " 'training',\n",
       " 'exams',\n",
       " 'Revision',\n",
       " 'Na',\n",
       " 'Teachers',\n",
       " 'Online',\n",
       " 'material',\n",
       " 'teacher',\n",
       " 'Students',\n",
       " 'papers',\n",
       " 'Bala',\n",
       " 'regarding',\n",
       " 'drive',\n",
       " 'online',\n",
       " 'visit',\n",
       " 'Enrollment',\n",
       " '-',\n",
       " 'paper',\n",
       " 'Good',\n",
       " 'Meeting',\n",
       " 'They',\n",
       " 'good',\n",
       " 'parents',\n",
       " 'door',\n",
       " 'none',\n",
       " 'final',\n",
       " 'time',\n",
       " 'taken']"
      ]
     },
     "execution_count": 14,
     "metadata": {},
     "output_type": "execute_result"
    }
   ],
   "source": [
    "sorted(frequency_dist,key=frequency_dist.__getitem__, reverse=True)[0:50]"
   ]
  },
  {
   "cell_type": "code",
   "execution_count": null,
   "metadata": {},
   "outputs": [],
   "source": []
  },
  {
   "cell_type": "code",
   "execution_count": null,
   "metadata": {},
   "outputs": [],
   "source": []
  },
  {
   "cell_type": "code",
   "execution_count": null,
   "metadata": {},
   "outputs": [],
   "source": []
  },
  {
   "cell_type": "code",
   "execution_count": null,
   "metadata": {},
   "outputs": [],
   "source": []
  },
  {
   "cell_type": "code",
   "execution_count": null,
   "metadata": {},
   "outputs": [],
   "source": []
  }
 ],
 "metadata": {
  "kernelspec": {
   "display_name": "Python 3",
   "language": "python",
   "name": "python3"
  },
  "language_info": {
   "codemirror_mode": {
    "name": "ipython",
    "version": 3
   },
   "file_extension": ".py",
   "mimetype": "text/x-python",
   "name": "python",
   "nbconvert_exporter": "python",
   "pygments_lexer": "ipython3",
   "version": "3.7.4"
  }
 },
 "nbformat": 4,
 "nbformat_minor": 2
}
